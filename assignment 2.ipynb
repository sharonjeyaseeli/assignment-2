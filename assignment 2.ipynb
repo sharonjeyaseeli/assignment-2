{
 "cells": [
  {
   "cell_type": "code",
   "execution_count": 13,
   "id": "c67ea695",
   "metadata": {},
   "outputs": [
    {
     "name": "stdout",
     "output_type": "stream",
     "text": [
      "{'a': 97, 'b': 98, 'c': 99, 'd': 100, 'e': 101, 'f': 102, 'g': 103, 'h': 104, 'i': 105, 'j': 106, 'k': 107, 'l': 108, 'm': 109, 'n': 110, 'o': 111, 'p': 112, 'q': 113, 'r': 114, 's': 115, 't': 116, 'u': 117, 'v': 118, 'w': 119, 'x': 120, 'y': 121, 'z': 122}\n"
     ]
    }
   ],
   "source": [
    "d={}\n",
    "for i in range (ord(\"a\"),ord(\"z\")+1):\n",
    "    d[chr(i)]=i\n",
    "print(d)\n",
    "    \n"
   ]
  },
  {
   "cell_type": "code",
   "execution_count": 14,
   "id": "3c097c6b",
   "metadata": {},
   "outputs": [
    {
     "name": "stdout",
     "output_type": "stream",
     "text": [
      "5\n",
      "2\n",
      "5\n",
      "1\n",
      "2\n",
      "4\n",
      "4\n",
      "2\n",
      "3\n",
      "2\n",
      "1\n",
      "[(2, 5), (1, 2), (4, 4), (2, 3), (2, 1)]\n"
     ]
    }
   ],
   "source": [
    "list=[]\n",
    "n=4\n",
    "\n",
    "\n",
    "for i in range(int(input())):\n",
    "    t= []\n",
    "    for j in range(2):\n",
    "\n",
    "\n",
    "        x=int(input())\n",
    "        t.append(x)\n",
    "        a=tuple(t)\n",
    "    list.append(a)\n",
    "print(list)\n",
    "        "
   ]
  },
  {
   "cell_type": "code",
   "execution_count": 17,
   "id": "c1982dfa",
   "metadata": {},
   "outputs": [],
   "source": [
    "def sort_secondelement(par):\n",
    "    return par[-1]\n",
    "list.sort(key=sort_secondelement)"
   ]
  },
  {
   "cell_type": "code",
   "execution_count": 20,
   "id": "151f92f6",
   "metadata": {},
   "outputs": [
    {
     "name": "stdout",
     "output_type": "stream",
     "text": [
      "[(2, 1), (1, 2), (2, 3), (4, 4), (2, 5)]\n"
     ]
    }
   ],
   "source": [
    "print(list)"
   ]
  },
  {
   "cell_type": "code",
   "execution_count": 22,
   "id": "d42e46fc",
   "metadata": {},
   "outputs": [
    {
     "data": {
      "text/plain": [
       "[(2, 1), (1, 2), (2, 3), (4, 4), (2, 5)]"
      ]
     },
     "execution_count": 22,
     "metadata": {},
     "output_type": "execute_result"
    }
   ],
   "source": [
    "def sort(para):\n",
    "    return [1]\n",
    "sorted(list,key=sort)"
   ]
  },
  {
   "cell_type": "code",
   "execution_count": null,
   "id": "a16810f6",
   "metadata": {},
   "outputs": [],
   "source": []
  }
 ],
 "metadata": {
  "kernelspec": {
   "display_name": "Python 3 (ipykernel)",
   "language": "python",
   "name": "python3"
  },
  "language_info": {
   "codemirror_mode": {
    "name": "ipython",
    "version": 3
   },
   "file_extension": ".py",
   "mimetype": "text/x-python",
   "name": "python",
   "nbconvert_exporter": "python",
   "pygments_lexer": "ipython3",
   "version": "3.10.2"
  }
 },
 "nbformat": 4,
 "nbformat_minor": 5
}
